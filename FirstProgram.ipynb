{
 "cells": [
  {
   "cell_type": "code",
   "execution_count": 1,
   "id": "20c8d4fa-5267-44ae-8220-d435c224915f",
   "metadata": {},
   "outputs": [
    {
     "name": "stdout",
     "output_type": "stream",
     "text": [
      "HelloWorld\n"
     ]
    }
   ],
   "source": [
    "print(\"HelloWorld\");"
   ]
  },
  {
   "cell_type": "code",
   "execution_count": 2,
   "id": "cd161e5f-d51c-449a-997c-4ce7e7c542f6",
   "metadata": {},
   "outputs": [
    {
     "name": "stdout",
     "output_type": "stream",
     "text": [
      "2\n"
     ]
    }
   ],
   "source": [
    "print(1+1);"
   ]
  },
  {
   "cell_type": "code",
   "execution_count": null,
   "id": "a11c5cdd-a7ad-48bf-af82-42849260e2c3",
   "metadata": {},
   "outputs": [],
   "source": []
  }
 ],
 "metadata": {
  "kernelspec": {
   "display_name": "Python 3 (ipykernel)",
   "language": "python",
   "name": "python3"
  },
  "language_info": {
   "codemirror_mode": {
    "name": "ipython",
    "version": 3
   },
   "file_extension": ".py",
   "mimetype": "text/x-python",
   "name": "python",
   "nbconvert_exporter": "python",
   "pygments_lexer": "ipython3",
   "version": "3.12.5"
  }
 },
 "nbformat": 4,
 "nbformat_minor": 5
}
